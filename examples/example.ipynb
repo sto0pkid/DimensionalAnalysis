{
 "cells": [
  {
   "cell_type": "code",
   "execution_count": 1,
   "metadata": {},
   "outputs": [],
   "source": [
    "from src import Unit\n",
    "\n",
    "\n",
    "kg = Unit({'kg':1})\n",
    "m  = Unit({'m':1})\n",
    "s  = Unit({'s':1})\n",
    "USD = Unit({'$':1})\n",
    "year = Unit({'year':1})\n",
    "day = Unit({'day':1})\n",
    "hour = Unit({'hour':1})\n",
    "minute = Unit({'minute':1})"
   ]
  },
  {
   "cell_type": "code",
   "execution_count": 2,
   "metadata": {},
   "outputs": [
    {
     "name": "stdout",
     "output_type": "stream",
     "text": [
      "Test\n",
      "1\n",
      "kg\n",
      "m\n",
      "s\n",
      "m*kg\n",
      "kg^2\n",
      "kg\n",
      "kg^2/m^2\n",
      "kg^2/m^2\n",
      "m^2/kg^2\n",
      "True\n",
      "False\n",
      "False\n",
      "True\n",
      "kg\n",
      "kg\n",
      "Can't add kg to s\n",
      "m/s\n",
      "m^2/s^2\n",
      "5 m/s\n",
      "15 m/s\n",
      "Can't add m/s to kg\n",
      "50 kg*m/s\n",
      "50.0 $/s\n",
      "31536000.0 s/year\n",
      "\n"
     ]
    }
   ],
   "source": [
    "def test():\n",
    "    print(\"Test\")\n",
    "    print(Unit())\n",
    "    print(kg)\n",
    "    print(m)\n",
    "    print(s)\n",
    "    print(kg * m)\n",
    "    print(kg^2)\n",
    "    print((kg^2)/kg)\n",
    "    print(((kg^2)/m)/m)\n",
    "    print((kg^2)*(m^(-2)))\n",
    "    print(((kg^2)*(m^(-2)))^(-1))\n",
    "    print((((kg^2)/m)/m) == ((kg^2)*(m^(-2))))\n",
    "    print((((kg^2)/m)/m) == (((kg^2)*(m^(-2)))^(-1)))\n",
    "    print(kg == s)\n",
    "    print(kg == kg^1)\n",
    "    print(kg - kg)\n",
    "    print(kg + kg)\n",
    "    try:\n",
    "        print(kg + s)\n",
    "    except ValueError:\n",
    "        print(\"Can't add\",kg,\"to\",s)\n",
    "    print((m/s) + (m/s))\n",
    "    print((m/s)^2)\n",
    "    print(5*(m/s))\n",
    "    print((5*(m/s)) + (10*(m/s)))\n",
    "    try:\n",
    "        print((5*(m/s)) + (10*kg))\n",
    "    except ValueError:\n",
    "        print(\"Can't add\",(m/s),\"to\",kg)\n",
    "    print((5*(m/s))*(10*kg))\n",
    "    print((50*USD)/s)\n",
    "    v = (  (60*s)/minute\n",
    "         * (60*minute)/hour\n",
    "         * (24*hour)/day\n",
    "         * (365*day)/year\n",
    "        )\n",
    "    print(v)\n",
    "    print()\n",
    "test()"
   ]
  },
  {
   "cell_type": "code",
   "execution_count": 3,
   "metadata": {},
   "outputs": [
    {
     "name": "stdout",
     "output_type": "stream",
     "text": [
      "Test sympy unit\n"
     ]
    },
    {
     "data": {
      "text/latex": [
       "$\\displaystyle \\frac{m}{s}$"
      ],
      "text/plain": [
       "m/s"
      ]
     },
     "execution_count": 3,
     "metadata": {},
     "output_type": "execute_result"
    }
   ],
   "source": [
    "def test_sympy_unit():\n",
    "    print(\"Test sympy unit\")\n",
    "    return (m/s).to_sympy()\n",
    "test_sympy_unit()"
   ]
  },
  {
   "cell_type": "code",
   "execution_count": 4,
   "metadata": {},
   "outputs": [
    {
     "data": {
      "text/latex": [
       "$\\displaystyle \\frac{m}{s}$"
      ],
      "text/plain": [
       "<IPython.core.display.Math object>"
      ]
     },
     "metadata": {},
     "output_type": "display_data"
    }
   ],
   "source": [
    "(m/s).display()"
   ]
  },
  {
   "cell_type": "code",
   "execution_count": null,
   "metadata": {},
   "outputs": [],
   "source": []
  }
 ],
 "metadata": {
  "kernelspec": {
   "display_name": "Python 3",
   "language": "python",
   "name": "python3"
  },
  "language_info": {
   "codemirror_mode": {
    "name": "ipython",
    "version": 3
   },
   "file_extension": ".py",
   "mimetype": "text/x-python",
   "name": "python",
   "nbconvert_exporter": "python",
   "pygments_lexer": "ipython3",
   "version": "3.5.2"
  }
 },
 "nbformat": 4,
 "nbformat_minor": 2
}
